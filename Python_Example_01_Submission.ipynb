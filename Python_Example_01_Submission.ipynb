{
 "cells": [
  {
   "cell_type": "code",
   "execution_count": 4,
   "metadata": {},
   "outputs": [
    {
     "name": "stdout",
     "output_type": "stream",
     "text": [
      "Start\n",
      "This Code is developed by Shreyas\n",
      "Welcome to python \n",
      "The count is 2\n",
      "The count is 3\n",
      "The count is 4\n",
      "End\n"
     ]
    }
   ],
   "source": [
    "## Created By : Shreyas Prasadh\n",
    "## Student Id : 0859565\n",
    "##This is a simple example of 01SimpleExample\n",
    "print \"Start\"\n",
    "\n",
    "## Looping through and printing the desired count\n",
    "count = 0\n",
    "while (count < 5):\n",
    "  if count == 0:\n",
    "        #Printing when the count is 1 . The count starts from 0 so this will be the second iteration\n",
    "        print \"This Code is developed by Shreyas\" \n",
    "  elif count == 1:\n",
    "        #Printing when the count is 2\n",
    "        print \"Welcome to python \" \n",
    "  else: \n",
    "        print \"The count is \" + str(count)\n",
    "  count = count + 1     \n",
    "\n",
    "print \"End\"\n",
    "## The above code covers the topics of loops , conditional statement ,printing of text , type casting "
   ]
  },
  {
   "cell_type": "code",
   "execution_count": null,
   "metadata": {
    "collapsed": true
   },
   "outputs": [],
   "source": []
  }
 ],
 "metadata": {
  "kernelspec": {
   "display_name": "Python 2",
   "language": "python",
   "name": "python2"
  },
  "language_info": {
   "codemirror_mode": {
    "name": "ipython",
    "version": 2
   },
   "file_extension": ".py",
   "mimetype": "text/x-python",
   "name": "python",
   "nbconvert_exporter": "python",
   "pygments_lexer": "ipython2",
   "version": "2.7.13"
  }
 },
 "nbformat": 4,
 "nbformat_minor": 2
}
